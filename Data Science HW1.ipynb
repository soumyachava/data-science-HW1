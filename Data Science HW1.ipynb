{
 "cells": [
  {
   "cell_type": "markdown",
   "metadata": {
    "id": "MH6d4w6M9Ven"
   },
   "source": [
    "# Introduction to Data Science 2025 – Homework 1\n",
    "*COMP 5360 / MATH 4100, University of Utah, http://datasciencecourse.net/*\n",
    "\n",
    "Due: Friday, January 17, 11:59pm.\n",
    "\n",
    "This homework is designed to practice the skills we learned through Lecture 3: working with loops, conditionals, functions, and the built-in Python data structures. Please review the lectures to aid you.\n",
    "\n",
    "Please avoid the use of online aids (e.g., generative AI) to solve the problems for you. You may always search online to understand how a function works or look up what an error message means. The idea is to **practice basic Python skills** so you are **prepared to debug problems** when online tools have difficulty later in the course. This is like doing addition and subtraction examples by hand when learning *before* learning how to do more advanced problems with calculations.\n",
    "\n",
    "**Note:** You are allowed to use built-in Python functions such as `len` and `range` etc. However, do **NOT** use functions that will solve the exercise entirely such as `reverse` to reverse a list or `sum` to sum a list.\n",
    "\n",
    "**Note:** You may **NOT** use higher-level library functions but should implement everything using functions, loops, and conditionals."
   ]
  },
  {
   "cell_type": "markdown",
   "metadata": {
    "id": "Rl_mJZqA9Vep"
   },
   "source": [
    "## Your Data\n",
    "Fill out the following information: \n",
    "\n",
    "*First Name:*  Soumya \n",
    "*Last Name:*   Chava\n",
    "*E-mail:*   u1538585@umail.utah.edu\n",
    "*UID:*  u1538585\n"
   ]
  },
  {
   "cell_type": "markdown",
   "metadata": {},
   "source": [
    "### >>> For each problem below, add at least one of your own example test cases <<<\n",
    "\n",
    "Note, we may also include test cases beyond the samples within this notebook."
   ]
  },
  {
   "cell_type": "markdown",
   "metadata": {
    "id": "Ji-nFi-99Ver"
   },
   "source": [
    "## Problem 1: Count Odds\n",
    "\n",
    "Write a function that returns how many odd numbers there are in a list. You can assume the list will contain only numbers."
   ]
  },
  {
   "cell_type": "code",
   "execution_count": 238,
   "metadata": {
    "id": "wr1jIaP59Ves"
   },
   "outputs": [],
   "source": [
    "# your code\n",
    "def count_odds(lst):\n",
    "    count = 0\n",
    "    for i in lst:\n",
    "        if i % 2 != 0:\n",
    "            count += 1\n",
    "    return count"
   ]
  },
  {
   "cell_type": "code",
   "execution_count": 240,
   "metadata": {
    "id": "HVIPPmuP9Vet"
   },
   "outputs": [
    {
     "name": "stdout",
     "output_type": "stream",
     "text": [
      "4\n",
      "0\n"
     ]
    }
   ],
   "source": [
    "# sample test case\n",
    "print(count_odds([-15, -112, 14, -29, 17, 360, 86, 128, -12, 0, 23]))\n",
    "print(count_odds([]))"
   ]
  },
  {
   "cell_type": "code",
   "execution_count": 242,
   "metadata": {},
   "outputs": [
    {
     "name": "stdout",
     "output_type": "stream",
     "text": [
      "7\n"
     ]
    }
   ],
   "source": [
    "# your test case goes here\n",
    "print(count_odds([13,12,56,34,67,86,56,93,47,30,33,45,61]))"
   ]
  },
  {
   "cell_type": "markdown",
   "metadata": {
    "id": "ohrWTVIt9Veu"
   },
   "source": [
    "## Problem 2: Reversing a List Two Ways\n",
    "\n",
    "Write two functions `reverse_elem` and `reverse_lc` that take a list as a parameter and reverses the order of the elements.\n",
    "\n",
    "`reverse_elem` should use element-wise processing in a loop\n",
    "\n",
    "`reverse_lc` should use a list comprehension"
   ]
  },
  {
   "cell_type": "code",
   "execution_count": 245,
   "metadata": {
    "id": "zr-oNO5H9Vev"
   },
   "outputs": [],
   "source": [
    "# your code\n",
    "# using element-wise processing in a loop\n",
    "def reverse_elem(input_list):\n",
    "    reversed_list = []\n",
    "    for i in input_list:\n",
    "        reversed_list.insert(0,i)\n",
    "    print(reversed_list)\n",
    "\n",
    "# using a list comprehension\n",
    "def reverse_lc(input_list):\n",
    "    reversed_list = [input_list[i] for i in range(len(input_list) -1, -1, -1)]\n",
    "    print(reversed_list)"
   ]
  },
  {
   "cell_type": "code",
   "execution_count": 247,
   "metadata": {
    "id": "2Bps9lz99Vev"
   },
   "outputs": [
    {
     "name": "stdout",
     "output_type": "stream",
     "text": [
      "[9, 5, 1, 4, 1, 3]\n",
      "None\n",
      "['Negative', 'Polychrome', 'Holographic', 'Foil', 'Base']\n",
      "None\n",
      "['Mako', 'Bolin', 'Asami', 'Korra', 174, 171, 170]\n",
      "None\n"
     ]
    }
   ],
   "source": [
    "# call your function with a couple of different lists and print the results here\n",
    "print(reverse_elem([3, 1, 4, 1, 5, 9]))\n",
    "print(reverse_elem(['Base', 'Foil', 'Holographic', 'Polychrome', 'Negative']))\n",
    "print(reverse_elem([170, 171, 174, \"Korra\", \"Asami\", \"Bolin\", \"Mako\"]))"
   ]
  },
  {
   "cell_type": "code",
   "execution_count": 249,
   "metadata": {
    "id": "OYRLesZg9Vew"
   },
   "outputs": [
    {
     "name": "stdout",
     "output_type": "stream",
     "text": [
      "[9, 5, 1, 4, 1, 3]\n",
      "None\n",
      "['Negative', 'Polychrome', 'Holographic', 'Foil', 'Base']\n",
      "None\n",
      "['Mako', 'Bolin', 'Asami', 'Korra', 174, 171, 170]\n",
      "None\n"
     ]
    }
   ],
   "source": [
    "print(reverse_lc([3, 1, 4, 1, 5, 9]))\n",
    "print(reverse_lc([\"Base\", \"Foil\", \"Holographic\", \"Polychrome\", \"Negative\"]))\n",
    "print(reverse_lc([170, 171, 174, \"Korra\", \"Asami\", \"Bolin\", \"Mako\"]))"
   ]
  },
  {
   "cell_type": "code",
   "execution_count": 251,
   "metadata": {},
   "outputs": [
    {
     "name": "stdout",
     "output_type": "stream",
     "text": [
      "[90, 78, 56, 34, 12]\n",
      "None\n",
      "['informatics', 'biomedical', 'chava', 'soumya']\n",
      "None\n",
      "['chava', 9, 8, 'koka', 0, 'deepika', 28]\n",
      "None\n",
      "\n",
      "[15, 13, 16, 7, 8, 28]\n",
      "None\n",
      "['charan', 'manoj', 'darmik', 'dakshith']\n",
      "None\n",
      "[4, 'jayaditya', 7, 'rithwik', 'july', 16]\n",
      "None\n"
     ]
    }
   ],
   "source": [
    "# Your test case goes here\n",
    "# for element-wise processing in a loop\n",
    "print(reverse_elem([12,34,56,78,90]))\n",
    "print(reverse_elem([\"soumya\",\"chava\",\"biomedical\",\"informatics\"]))\n",
    "print(reverse_elem([28,\"deepika\",0,\"koka\",8,9,\"chava\"]))\n",
    "# for list comprehension\n",
    "print()\n",
    "print(reverse_lc([28,8,7,16,13,15]))\n",
    "print(reverse_lc([\"dakshith\",\"darmik\",\"manoj\",\"charan\"]))\n",
    "print(reverse_lc([16,\"july\",\"rithwik\",7,\"jayaditya\",4]))"
   ]
  },
  {
   "cell_type": "markdown",
   "metadata": {
    "id": "6Jcug3z09Vex"
   },
   "source": [
    "## Problem 3: Combining Two Lists\n",
    "\n",
    "Write a function that combines two lists by alternatingly taking elements from the **back** of the first list and the **front** of the second list, e.g. [a,b,c], [1,2,3] → [c,1,b,2,a,3].\n",
    "In case of two lists of different length, the result should be [a,b,c,d],[1,2]=>[d,1,c,2,b,a], i.e., the elements of the longer list are appended at the end."
   ]
  },
  {
   "cell_type": "code",
   "execution_count": 254,
   "metadata": {
    "id": "F5NHxrtB9Vey"
   },
   "outputs": [],
   "source": [
    "# your code\n",
    "def combine_list(list1, list2):\n",
    "    combined_list = []\n",
    "    i, j = len(list1) - 1, 0   \n",
    "    while i >= 0 or j < len(list2):  \n",
    "        if i >= 0: \n",
    "            combined_list.append(list1[i])  \n",
    "            i -= 1 \n",
    "        if j < len(list2): \n",
    "            combined_list.append(list2[j]) \n",
    "            j += 1\n",
    "\n",
    "    return combined_list"
   ]
  },
  {
   "cell_type": "code",
   "execution_count": 256,
   "metadata": {
    "id": "XTcxZt1S9Vey"
   },
   "outputs": [
    {
     "name": "stdout",
     "output_type": "stream",
     "text": [
      "['z', 1, 'y', 1, 'x', 2, 'w', 3, 5, 8]\n",
      "\n",
      "[8, 'delta', 2, 'echo', 8, 'foxtrot', 1, 'golf', 7, 2]\n"
     ]
    }
   ],
   "source": [
    "# call your function with a couple of different lists and print the results here\n",
    "print(combine_list(['w', 'x', 'y', 'z'], [1, 1, 2, 3, 5, 8]))\n",
    "print()\n",
    "print(combine_list([2, 7, 1, 8, 2, 8], ['delta', 'echo', 'foxtrot', 'golf']))"
   ]
  },
  {
   "cell_type": "code",
   "execution_count": 261,
   "metadata": {},
   "outputs": [
    {
     "name": "stdout",
     "output_type": "stream",
     "text": [
      "['r', 28, 'a', 3, 'c', 10, 't', 99, 's', 28, 'h', 1]\n",
      "\n",
      "[4, 'chava', 15, 'pepsi', 13, 'hema', 16, 'sundar', 7, 9, 8]\n"
     ]
    }
   ],
   "source": [
    "# your test case goes here\n",
    "print(combine_list(['h','s','t','c','a','r'],[28,3,10,99,28,1]))\n",
    "print()\n",
    "print(combine_list([8,9,7,16,13,15,4],[\"chava\",\"pepsi\",\"hema\",\"sundar\"]))"
   ]
  },
  {
   "cell_type": "markdown",
   "metadata": {
    "id": "yxKmpVQd9Vez"
   },
   "source": [
    "## Problem 4: Numbers to Digits in Two Ways\n",
    "\n",
    "Write two functions that take a number and return a list of its digits in order, e.g., 789456 → [7, 8, 9, 4, 5, 6].\n",
    "\n",
    "You need to implement two versions of the function: `num_to_digits_elem`, a version with element-wise processing, and `num_to_digits_lc`, a version using the list comprehension way."
   ]
  },
  {
   "cell_type": "code",
   "execution_count": 264,
   "metadata": {
    "id": "NG72kC6t9Ve1"
   },
   "outputs": [],
   "source": [
    "# your code\n",
    "# version with element-wise processing\n",
    "def num_to_digits_elem(number):\n",
    "    digits_order = []\n",
    "    for char in str(number):\n",
    "        digits_order.append(int(char))\n",
    "    print(digits_order)\n",
    "    \n",
    "# version using the list comprehension way\n",
    "def num_to_digits_lc(number):\n",
    "    return[int(char) for char in str(number)]\n"
   ]
  },
  {
   "cell_type": "code",
   "execution_count": 266,
   "metadata": {
    "id": "3pjI4Gut9Ve2"
   },
   "outputs": [
    {
     "name": "stdout",
     "output_type": "stream",
     "text": [
      "[4, 7, 0, 1, 3]\n",
      "None\n",
      "[6, 0, 1, 7, 5, 6, 4, 9, 6, 1, 2, 6, 6, 3, 3, 9, 6, 8, 3, 9, 9, 5, 3]\n",
      "None\n",
      "\n",
      "[4, 7, 0, 1, 3]\n",
      "[6, 0, 1, 7, 5, 6, 4, 9, 6, 1, 2, 6, 6, 3, 3, 9, 6, 8, 3, 9, 9, 5, 3]\n"
     ]
    }
   ],
   "source": [
    "# call your function with a couple of different numbers and print the results here\n",
    "print(num_to_digits_elem(47013))\n",
    "print(num_to_digits_elem(60175649612663396839953))\n",
    "print()\n",
    "print(num_to_digits_lc(47013))\n",
    "print(num_to_digits_lc(60175649612663396839953))"
   ]
  },
  {
   "cell_type": "code",
   "execution_count": 268,
   "metadata": {},
   "outputs": [
    {
     "name": "stdout",
     "output_type": "stream",
     "text": [
      "[2, 8, 0, 1, 2, 0, 0, 1]\n",
      "None\n",
      "[3, 1, 0, 9, 9, 1, 2, 8, 2, 1, 8, 9, 1, 9, 9, 8, 2, 8, 0, 9, 7, 4, 1, 6, 2, 5, 0, 5]\n",
      "None\n",
      "\n",
      "[2, 8, 0, 1, 2, 0, 0, 1]\n",
      "[3, 1, 0, 9, 9, 1, 2, 8, 2, 1, 8, 9, 1, 9, 9, 8, 2, 8, 0, 9, 7, 4, 1, 6, 2, 5, 0, 5]\n"
     ]
    }
   ],
   "source": [
    "# your test case goes here\n",
    "print(num_to_digits_elem(28012001))\n",
    "print(num_to_digits_elem(3109912821891998280974162505))\n",
    "print()\n",
    "print(num_to_digits_lc(28012001))\n",
    "print(num_to_digits_lc(3109912821891998280974162505))"
   ]
  },
  {
   "cell_type": "markdown",
   "metadata": {
    "id": "5n7BxHMQ9Ve3"
   },
   "source": [
    "## Problem 5: Sums in Four Ways\n",
    "\n",
    "Write four functions that sums the numbers in a list. The first function should use a for-loop, the second a while-loop and the third and fourth should use recursion.\n",
    "\n",
    "The two versions of the function using recursion are: a version copying the list when passing the argument, and another version not copying the list when passing the argument.\n",
    "\n",
    "*Hint 1: Passing a slice of the list as an argument will copy the list.*\n",
    "\n",
    "*Hint 2: A function may need more than one argument, but you should allow the function to be called with only one argument given.*"
   ]
  },
  {
   "cell_type": "code",
   "execution_count": 271,
   "metadata": {
    "id": "-PysUUrU9Ve4"
   },
   "outputs": [],
   "source": [
    "# your code\n",
    "# using a for-loop\n",
    "def sum_for(numbers):\n",
    "    total = 0\n",
    "    for num in numbers:\n",
    "        total += num\n",
    "    return total\n",
    "\n",
    "# using a while loop        \n",
    "def sum_while(numbers):\n",
    "    total = 0\n",
    "    index = 0\n",
    "    while index<len(numbers):\n",
    "        total += numbers[index]\n",
    "        index += 1\n",
    "    return total\n",
    "     \n",
    "# using recursion - copying the list when passing the aurgument\n",
    "def sum_recursive(numbers):\n",
    "    if not numbers:\n",
    "        return 0\n",
    "    return numbers[0] + sum_recursive(numbers[1:])\n",
    "\n",
    "# using recursion - not copying the list when passing the aurgument\n",
    "def sum_recursive_no_copy(numbers,soom=0):\n",
    "    if soom == len(numbers):\n",
    "        return 0\n",
    "    return numbers[soom] + sum_recursive_no_copy(numbers, soom+1)"
   ]
  },
  {
   "cell_type": "code",
   "execution_count": 273,
   "metadata": {
    "id": "79pC87cC9Ve5"
   },
   "outputs": [
    {
     "name": "stdout",
     "output_type": "stream",
     "text": [
      "36 36 36 36\n",
      "\n",
      "34 34 34 34\n",
      "\n",
      "33 33 33 33\n",
      "\n",
      "22 22 22 22\n"
     ]
    }
   ],
   "source": [
    "# call your function with a couple of different lists and print the results here\n",
    "list1 = range(1,9)\n",
    "list2 = [1, 6, 2, -2, -2, 5, 9, 3, 7, -4, 9]\n",
    "list3 = [1, 8, 2, 0, 3, 9, 1, 8, -2, 3]\n",
    "list4 = [3, 6, 9, -3, 2, 7, 6, 1, -9]\n",
    "\n",
    "print(sum_for(list1), sum_while(list1), sum_recursive(list1), sum_recursive_no_copy(list1))\n",
    "print()\n",
    "print(sum_for(list2), sum_while(list2), sum_recursive(list2), sum_recursive_no_copy(list2))\n",
    "print()\n",
    "print(sum_for(list3), sum_while(list3), sum_recursive(list3), sum_recursive_no_copy(list3))\n",
    "print()\n",
    "print(sum_for(list4), sum_while(list4), sum_recursive(list4), sum_recursive_no_copy(list4))"
   ]
  },
  {
   "cell_type": "code",
   "execution_count": 275,
   "metadata": {},
   "outputs": [
    {
     "name": "stdout",
     "output_type": "stream",
     "text": [
      "175 175 175 175\n",
      "\n",
      "30 30 30 30\n",
      "\n",
      "124 124 124 124\n",
      "\n",
      "29 29 29 29\n"
     ]
    }
   ],
   "source": [
    "# your test case goes here\n",
    "list1 = range(22,29)\n",
    "list2 = [33,-45,6,8,23,5]\n",
    "list3 = [-28,3,4,99,21,5,8,2,10]\n",
    "list4 = [6,5,7,-8,3,5,7,1,3]\n",
    "\n",
    "print(sum_for(list1), sum_while(list1), sum_recursive(list1), sum_recursive_no_copy(list1))\n",
    "print()\n",
    "print(sum_for(list2), sum_while(list2), sum_recursive(list2), sum_recursive_no_copy(list2))\n",
    "print()\n",
    "print(sum_for(list3), sum_while(list3), sum_recursive(list3), sum_recursive_no_copy(list3))\n",
    "print()\n",
    "print(sum_for(list4), sum_while(list4), sum_recursive(list4), sum_recursive_no_copy(list4))"
   ]
  },
  {
   "cell_type": "markdown",
   "metadata": {
    "id": "_5KdFNEG9Ve5"
   },
   "source": [
    "## Problem 6: Filtering\n",
    "\n",
    "Write a function `filter_alpha` that filters out elements from a list of strings that are alphabetically before a given test string. Preserve capitalization and their sort order.\n",
    "\n",
    "For example, aftering filtering out strings before \"Kilo\" from the list \\['Pulse', 'Chop', 'Puree', 'Stir', 'Liquify', 'Crush'\\] you would return \\['Pulse', 'Puree', 'Stir', 'Liquify'\\]."
   ]
  },
  {
   "cell_type": "code",
   "execution_count": 278,
   "metadata": {
    "id": "RR6AVB7h9Ve6"
   },
   "outputs": [],
   "source": [
    "# your code\n",
    "def filter_alpha(strings, test_string):\n",
    "    result = []\n",
    "    for string in strings:\n",
    "        if string >= test_string:\n",
    "            result.append(string)\n",
    "    return result\n"
   ]
  },
  {
   "cell_type": "code",
   "execution_count": 280,
   "metadata": {
    "id": "lMvJaf9f9Ve7"
   },
   "outputs": [
    {
     "name": "stdout",
     "output_type": "stream",
     "text": [
      "['Pulse', 'Puree', 'Stir', 'Liquify']\n",
      "['Vixen']\n",
      "['bell', 'ghost', 'Hatch', 'cayenne', 'serrano']\n"
     ]
    }
   ],
   "source": [
    "# call your function with a couple of different n and print the results here\n",
    "print(filter_alpha(['Pulse', 'Chop', 'Puree', 'Stir', 'Liquify', 'Crush'], 'Kilo'))\n",
    "print(filter_alpha(['Dasher', 'Dancer', 'Prancer', 'Vixen', 'Comet', 'Cupid', 'Donner', 'Blitzen'], 'Rudolph'))\n",
    "print(filter_alpha(['bell', 'ghost', 'Hatch', 'cayenne', 'serrano', 'Anaheim', 'Bonney'], 'Fresno'))"
   ]
  },
  {
   "cell_type": "code",
   "execution_count": 282,
   "metadata": {},
   "outputs": [
    {
     "name": "stdout",
     "output_type": "stream",
     "text": [
      "['Potato', 'Chilli', 'Tomato', 'Onion', 'Spinach']\n",
      "['Zeta', 'Theta', 'Kappa', 'Lambda', 'Omicron']\n",
      "['Pluto', 'Mercury', 'Venus', 'Mars', 'Saturn', 'Uranus', 'Neptune']\n"
     ]
    }
   ],
   "source": [
    "# your test case goes here\n",
    "print(filter_alpha([\"Potato\", \"Chilli\", \"Tomato\", \"Onion\", \"Spinach\", \"Beans\"], \"Carrot\"))\n",
    "print(filter_alpha([\"Alpha\", \"Beta\", \"Gamma\",\"Delta\", \"Epsilon\", \"Zeta\", \"Eta\", \"Theta\", \"Kappa\", \"Lambda\", \"Omicron\"], \"Iota\"))\n",
    "print(filter_alpha([\"Pluto\", \"Mercury\", \"Venus\", \"Earth\", \"Mars\", \"Saturn\", \"Jupiter\", \"Uranus\", \"Neptune\"], \"Mars\"))\n"
   ]
  },
  {
   "cell_type": "markdown",
   "metadata": {
    "id": "EGYlBRFG9Ve7"
   },
   "source": [
    "## Problem 7: Pell Numbers\n",
    "\n",
    "Write a function that takes a number `n` and an empty array that writes the first `n` [Pell numbers](https://en.wikipedia.org/wiki/Pell_number) into the empty array. Print the array. \n",
    "\n",
    "The Pell numbers can be generated via a relation where $Pell(x) = 2 * Pell(x-1) + Pell(x-2)$ with $Pell(1) = 1$ and $Pell(0) = 0$. Note that this sequence starts with $Pell(1)$ and $Pell(0)$ is just used in the relation. \n",
    "\n",
    "The sequence begins `1`, `(2*1 + 0) = 2`, `(2*2 + 1) = 5`, `(2*5 + 2) = 12`...\n",
    "\n",
    "Thus, if you call `pell(4)`, it should thus produce `[1, 2, 5, 12]`."
   ]
  },
  {
   "cell_type": "code",
   "execution_count": 285,
   "metadata": {
    "id": "KLhYmYjw9Ve8"
   },
   "outputs": [],
   "source": [
    "# your code  \n",
    "def pell(n, array):\n",
    "    if n <= 0:\n",
    "        return\n",
    "    if n >= 1:\n",
    "        array.append(1)\n",
    "    if n >= 2:\n",
    "        array.append(2)\n",
    "    for i in range(2, n):\n",
    "        pell_num = 2 * array[i - 1] + array[i - 2]\n",
    "        array.append(pell_num)"
   ]
  },
  {
   "cell_type": "code",
   "execution_count": 287,
   "metadata": {
    "id": "D0Ben5UQ9Ve9"
   },
   "outputs": [
    {
     "name": "stdout",
     "output_type": "stream",
     "text": [
      "[1, 2, 5, 12, 29, 70, 169, 408, 985, 2378, 5741, 13860, 33461, 80782, 195025, 470832, 1136689]\n"
     ]
    }
   ],
   "source": [
    "# call your function with a couple of different n and print the results here\n",
    "sequence = []\n",
    "pell(17, sequence)\n",
    "print(sequence)  "
   ]
  },
  {
   "cell_type": "markdown",
   "metadata": {
    "id": "6ycInDlR9Ve9"
   },
   "source": [
    "# Problem 8: Rolling Mean of Piano Practice\n",
    "\n",
    "Write a function `rolling_mean` that takes a list of minutes practicing piano every day, and computes a moving average over every consecutive `k` days. Some days will be missing measurements and will instead have the value `None`.\n",
    "\n",
    "**Caveats:**\n",
    "* The days missing measurements should be included in your `k` day window, but should not affect the average.\n",
    "  * e.g.`rolling_mean([87,None,92],3)` should return `[89.5]`\n",
    "* If all days in a window are missing measurements then the average should also have the value `None`.\n",
    "  * e.g. `rolling_mean([None, None, 53], 2)` should return `[None, 53]`\n",
    "* Only compute averages as long as you have enough data points to fill the window.\n",
    "  * e.g. `rolling_mean([100,25,30,45,50,60,75,80],7)` should return a list of length two.\n",
    "  * e.g. `rolling_mean([120,240,30,45,55],2)` should return a list of length 4.\n",
    "  * e.g. `rolling_mean([100,200,35], 4)` should return an empty list.\n",
    "\n",
    "You can use these as example lists, but make sure that your algorithm works on other lists/windows."
   ]
  },
  {
   "cell_type": "code",
   "execution_count": 290,
   "metadata": {
    "id": "qyQv0Ms19Ve-"
   },
   "outputs": [],
   "source": [
    "# your code \n",
    "def rolling_mean(practice_minutes, k):\n",
    "    if len(practice_minutes) < k:\n",
    "        return []\n",
    "    averages = [] \n",
    "    \n",
    "    for i in range(len(practice_minutes) - k + 1):\n",
    "        window = practice_minutes[i:i + k]\n",
    "        valid_values = [x for x in window if x is not None]\n",
    "        \n",
    "        if valid_values:\n",
    "            avg = sum(valid_values) / len(valid_values)\n",
    "            averages.append(avg)\n",
    "        else:\n",
    "            averages.append(None)\n",
    "    \n",
    "    return averages"
   ]
  },
  {
   "cell_type": "markdown",
   "metadata": {
    "id": "-If3GsvL9Ve_"
   },
   "source": [
    "### From provided examples:"
   ]
  },
  {
   "cell_type": "code",
   "execution_count": 293,
   "metadata": {
    "id": "Aq9L7jCm9Ve_"
   },
   "outputs": [
    {
     "name": "stdout",
     "output_type": "stream",
     "text": [
      "Computed Averages: [89.5] Expected: [89.5]\n",
      "Computed Averages: [None, 53.0] Expected: [None, 53.0]\n",
      "Length of List: 2 Expected Length: 2\n",
      "Length of List: 4 Expected Length: 4\n",
      "Length of List: 0 Expected Length: Empty\n"
     ]
    }
   ],
   "source": [
    "print('Computed Averages: ' + str(rolling_mean([87,None,92],3)), 'Expected: [89.5]')\n",
    "print('Computed Averages: ' + str(rolling_mean([None, None, 53], 2)), 'Expected: [None, 53.0]')\n",
    "print('Length of List: ' + str(len(rolling_mean([100,25,30,45,50,60,75,80],7))), 'Expected Length: 2')\n",
    "print('Length of List: ' + str(len(rolling_mean([120,240,30,45,55],2))), 'Expected Length: 4')\n",
    "print('Length of List: ' + str(len(rolling_mean([100,200,35],4))), 'Expected Length: Empty')"
   ]
  },
  {
   "cell_type": "code",
   "execution_count": 295,
   "metadata": {},
   "outputs": [
    {
     "name": "stdout",
     "output_type": "stream",
     "text": [
      "Computed Averages: [150.0, 250.0, 250.0] Expected: [150.0, 250.0, 250.0]\n",
      "Computed Averages: [45.0, 52.5, 60.0, 30.0] Expected: [45.0, 52.5, 60.0, 30.0]\n",
      "Length of List: 3 Expected Length: 3\n",
      "Length of List: 1 Expected Length: 1\n",
      "Length of List: 0 Expected Length: Empty\n"
     ]
    }
   ],
   "source": [
    "# your test case goes here\n",
    "print(\"Computed Averages: \" + str(rolling_mean([100, None, 200, 300, None], 3)), \"Expected: [150.0, 250.0, 250.0]\")\n",
    "print(\"Computed Averages: \" + str(rolling_mean([None, 45, 60, None, 30], 2)), \"Expected: [45.0, 52.5, 60.0, 30.0]\")\n",
    "print(\"Length of List: \" + str(len(rolling_mean([50, 60, 70, 80, 90, 100], 4))), \"Expected Length: 3\")\n",
    "print(\"Length of List: \" + str(len(rolling_mean([None, 30, 40, 50, 60], 5))), \"Expected Length: 1\")\n",
    "print(\"Length of List: \" + str(len(rolling_mean([200, 300, 400, 500], 10))), \"Expected Length: Empty\")"
   ]
  },
  {
   "cell_type": "markdown",
   "metadata": {
    "id": "SN5hbWM59Ve_"
   },
   "source": [
    "### Other Examples:"
   ]
  },
  {
   "cell_type": "code",
   "execution_count": 298,
   "metadata": {
    "id": "QUlq4Qxa9VfA"
   },
   "outputs": [],
   "source": [
    "student_1 = range(17)"
   ]
  },
  {
   "cell_type": "code",
   "execution_count": 300,
   "metadata": {
    "id": "iNMtJydP9VfA"
   },
   "outputs": [],
   "source": [
    "student_2 = [75,83,None,95,92,None]"
   ]
  },
  {
   "cell_type": "code",
   "execution_count": 302,
   "metadata": {
    "id": "cJdpAIz49VfB"
   },
   "outputs": [],
   "source": [
    "student_3 = [77,None,None,None,68,60,70,None,92]"
   ]
  },
  {
   "cell_type": "code",
   "execution_count": 304,
   "metadata": {
    "id": "TQekdAqV9VfB"
   },
   "outputs": [],
   "source": [
    "student_4 = [81,72,93]"
   ]
  },
  {
   "cell_type": "code",
   "execution_count": 306,
   "metadata": {
    "id": "9y0XuLyh9VfC"
   },
   "outputs": [],
   "source": [
    "student_5 = [None, None, None, 62]"
   ]
  },
  {
   "cell_type": "code",
   "execution_count": 308,
   "metadata": {
    "id": "ai2zsY7X9VfD"
   },
   "outputs": [],
   "source": [
    "student_6 = []"
   ]
  },
  {
   "cell_type": "code",
   "execution_count": 310,
   "metadata": {
    "id": "0i-LsPMk9VfE"
   },
   "outputs": [
    {
     "name": "stdout",
     "output_type": "stream",
     "text": [
      "[3.5, 4.5, 5.5, 6.5, 7.5, 8.5, 9.5, 10.5, 11.5, 12.5]\n"
     ]
    }
   ],
   "source": [
    "print(rolling_mean(student_1, 8))"
   ]
  },
  {
   "cell_type": "code",
   "execution_count": 312,
   "metadata": {
    "id": "ulr2mV3z9VfE"
   },
   "outputs": [
    {
     "name": "stdout",
     "output_type": "stream",
     "text": [
      "[79.0, 83.0, 95.0, 93.5, 92.0]\n",
      "[79.0, 89.0, 93.5, 93.5]\n"
     ]
    }
   ],
   "source": [
    "print(rolling_mean(student_2, 2))\n",
    "print(rolling_mean(student_2, 3))"
   ]
  },
  {
   "cell_type": "code",
   "execution_count": 314,
   "metadata": {
    "id": "R1plsoR39VfE"
   },
   "outputs": [
    {
     "name": "stdout",
     "output_type": "stream",
     "text": [
      "[77.0, None, None, 68.0, 64.0, 65.0, 70.0, 92.0]\n",
      "[77.0, None, 68.0, 64.0, 66.0, 65.0, 81.0]\n",
      "[77.0, 68.0, 64.0, 66.0, 66.0, 74.0]\n"
     ]
    }
   ],
   "source": [
    "print(rolling_mean(student_3, 2))\n",
    "print(rolling_mean(student_3, 3))\n",
    "print(rolling_mean(student_3, 4))"
   ]
  },
  {
   "cell_type": "code",
   "execution_count": 316,
   "metadata": {
    "id": "mmipCeK69VfF",
    "scrolled": true
   },
   "outputs": [
    {
     "name": "stdout",
     "output_type": "stream",
     "text": [
      "[81.0, 72.0, 93.0]\n",
      "[76.5, 82.5]\n",
      "[82.0]\n",
      "[]\n"
     ]
    }
   ],
   "source": [
    "print(rolling_mean(student_4, 1))\n",
    "print(rolling_mean(student_4, 2))\n",
    "print(rolling_mean(student_4, 3))\n",
    "print(rolling_mean(student_4, 4))"
   ]
  },
  {
   "cell_type": "code",
   "execution_count": 318,
   "metadata": {
    "id": "VdKFZJ249VfF"
   },
   "outputs": [
    {
     "name": "stdout",
     "output_type": "stream",
     "text": [
      "[None, None, None, 62.0]\n",
      "[None, None, 62.0]\n",
      "[None, 62.0]\n",
      "[62.0]\n"
     ]
    }
   ],
   "source": [
    "print(rolling_mean(student_5, 1))\n",
    "print(rolling_mean(student_5, 2))\n",
    "print(rolling_mean(student_5, 3))\n",
    "print(rolling_mean(student_5, 4))"
   ]
  },
  {
   "cell_type": "code",
   "execution_count": 320,
   "metadata": {
    "id": "xnSCyB4W9VfG",
    "scrolled": true
   },
   "outputs": [
    {
     "name": "stdout",
     "output_type": "stream",
     "text": [
      "[]\n",
      "[]\n"
     ]
    }
   ],
   "source": [
    "print(rolling_mean(student_6, 1))\n",
    "print(rolling_mean(student_6, 7))"
   ]
  },
  {
   "cell_type": "markdown",
   "metadata": {},
   "source": [
    "# Problem 9: Reflecting\n",
    "\n",
    "Create a markdown cell below. Succinctly describe what you referenced to help you do the assignment and what the biggest challenges were."
   ]
  },
  {
   "cell_type": "markdown",
   "metadata": {},
   "source": [
    "### Reference and Challenges\n",
    "\n",
    "For this assignment, I relied on **GeeksforGeeks** to some extent. It was a great resource for understanding how to work with lists, loops, and handle missing data (like `None` values). The site provided me with clear examples and explanations that helped write the code for various tasks, such as calculating rolling averages, filtering lists, and using list comprehensions.\n",
    "\n",
    "The biggest challenges I faced were:\n",
    "1. **Handling `None` values**: A lot of the exercises required me to deal with missing data, and it was tricky to make sure I ignored these `None` values when calculating things like averages.\n",
    "2. **Recursion**: Some parts of the assignment involved recursion, and it took a little while to get the hang of how to properly track the base cases and work through the recursive steps, especially with tasks like generating Pell numbers.\n",
    "3. **Window sizes**: For tasks like `rolling_mean`, I had to make sure I only calculated the average when there were enough valid data points. Figuring out when a window was valid or when to skip it was one of the more difficult parts of the assignment.\n"
   ]
  },
  {
   "cell_type": "code",
   "execution_count": null,
   "metadata": {},
   "outputs": [],
   "source": []
  }
 ],
 "metadata": {
  "anaconda-cloud": {},
  "colab": {
   "provenance": []
  },
  "kernelspec": {
   "display_name": "Python [conda env:base] *",
   "language": "python",
   "name": "conda-base-py"
  },
  "language_info": {
   "codemirror_mode": {
    "name": "ipython",
    "version": 3
   },
   "file_extension": ".py",
   "mimetype": "text/x-python",
   "name": "python",
   "nbconvert_exporter": "python",
   "pygments_lexer": "ipython3",
   "version": "3.12.7"
  }
 },
 "nbformat": 4,
 "nbformat_minor": 4
}
